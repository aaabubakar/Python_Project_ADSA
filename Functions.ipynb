{
 "cells": [
  {
   "cell_type": "markdown",
   "id": "d5733fc0",
   "metadata": {},
   "source": [
    "# FUNCTIONS"
   ]
  },
  {
   "cell_type": "markdown",
   "id": "6e4ce6d4",
   "metadata": {},
   "source": [
    "## 1. Write a function called display_message() that prints one sentence telling everyone what you are learning about in this chapter. Call the function, and make sure the message displays correctly"
   ]
  },
  {
   "cell_type": "code",
   "execution_count": 1,
   "id": "2de78037",
   "metadata": {},
   "outputs": [
    {
     "name": "stdout",
     "output_type": "stream",
     "text": [
      "I am Learning Python functions\n"
     ]
    }
   ],
   "source": [
    "def display_message():\n",
    "    '''What I am Learning'''\n",
    "    print('I am Learning Python functions')\n",
    "    \n",
    "    \n",
    "    \n",
    "display_message()"
   ]
  },
  {
   "cell_type": "markdown",
   "id": "5dc502fa",
   "metadata": {},
   "source": [
    "## 2. Write a function called favorite_book() that accepts one  parameter, title. The function should print a message, such as One of my  favorite books is Alice in Wonderland. Call the function, making sure to  include a book title as an argument in the function call."
   ]
  },
  {
   "cell_type": "code",
   "execution_count": 2,
   "id": "e4f372a2",
   "metadata": {},
   "outputs": [
    {
     "name": "stdout",
     "output_type": "stream",
     "text": [
      "My Favourite Book  is Crash Course For Python\n"
     ]
    }
   ],
   "source": [
    "def favorite_book(username):\n",
    "    '''Stating my favorite book'''\n",
    "    print(f'My Favourite Book  is {username.title()}')\n",
    "    \n",
    "favorite_book('Crash Course for python')"
   ]
  },
  {
   "cell_type": "markdown",
   "id": "b203f8ec",
   "metadata": {},
   "source": [
    "## 3. Write a function called make_shirt() that accepts a size and the text of a message that should be printed on the shirt. The function should print a sentence summarizing the size of the shirt and the message printed on it. Call the function once using positional arguments to make a shirt. Call the  function a second time using keyword arguments."
   ]
  },
  {
   "cell_type": "code",
   "execution_count": 6,
   "id": "6be89b68",
   "metadata": {},
   "outputs": [
    {
     "name": "stdout",
     "output_type": "stream",
     "text": [
      "\n",
      "The size of your shirt is L and name written on it is Abubakar\n",
      "\n",
      "The size of your shirt is L and name written on it is A Kaoje\n"
     ]
    }
   ],
   "source": [
    "def make_shirt(size,name):\n",
    "    ''''''\n",
    "    \n",
    "    print (f'\\nThe size of your shirt is {size} and name written on it is {name}')\n",
    "    \n",
    "\n",
    "make_shirt(\"L\",'Abubakar')\n",
    "make_shirt(name = 'A Kaoje', size = 'L')"
   ]
  },
  {
   "cell_type": "markdown",
   "id": "2cfe4256",
   "metadata": {},
   "source": [
    "## 4. Modify the make_shirt() function so that shirts are large by default with a message that reads I love Python. Make a large shirt and a medium shirt with the default message, and a shirt of any size with a different message"
   ]
  },
  {
   "cell_type": "code",
   "execution_count": 9,
   "id": "e592c1e3",
   "metadata": {},
   "outputs": [
    {
     "name": "stdout",
     "output_type": "stream",
     "text": [
      "\n",
      " Your shirt size is L and the message printed on it is I love Python\n"
     ]
    }
   ],
   "source": [
    "def make_shirt(message, size = 'L'):\n",
    "    '''This will make a shirt with size and name'''\n",
    "    print(f'\\n Your shirt size is {size} and the message printed on it is {message}')\n",
    "    \n",
    "make_shirt (\"I love Python\")\n"
   ]
  },
  {
   "cell_type": "code",
   "execution_count": 10,
   "id": "6c59073a",
   "metadata": {},
   "outputs": [
    {
     "name": "stdout",
     "output_type": "stream",
     "text": [
      "\n",
      " Your shirt size is L and the message printed on it is I love Python\n",
      "\n",
      " Your shirt size is M and the message printed on it is I love Python\n"
     ]
    }
   ],
   "source": [
    "def make_shirt( size, message = \"I love Python\"):\n",
    "    '''This will make a shirt with size and name'''\n",
    "    print(f'\\n Your shirt size is {size} and the message printed on it is {message}')\n",
    "    \n",
    "make_shirt ('L')\n",
    "make_shirt ('M')"
   ]
  },
  {
   "cell_type": "code",
   "execution_count": 12,
   "id": "99ee9cb0",
   "metadata": {},
   "outputs": [
    {
     "name": "stdout",
     "output_type": "stream",
     "text": [
      "\n",
      " Your shirt size is XXL and the message printed on it is I am Fat\n"
     ]
    }
   ],
   "source": [
    "make_shirt(size = 'XXL', message = 'I am Fat')"
   ]
  },
  {
   "cell_type": "markdown",
   "id": "dab157a4",
   "metadata": {},
   "source": [
    "## 5. Write a function called describe_city() that accepts the name of a city and its country. The function should print a simple sentence, such as Reykjavik is in Iceland. Give the parameter for the country a default value. Call your function for three different cities, at least one of which is not in the default country."
   ]
  },
  {
   "cell_type": "code",
   "execution_count": 15,
   "id": "868562cd",
   "metadata": {},
   "outputs": [
    {
     "name": "stdout",
     "output_type": "stream",
     "text": [
      "\n",
      "Kano is in Nigeria\n",
      "\n",
      "Kaduna is in Nigeria\n",
      "\n",
      "Kebbi is in Nigeria\n",
      "\n",
      "Texas is in America\n"
     ]
    }
   ],
   "source": [
    "def describe_city(city, country = 'Nigeria'):\n",
    "    '''This function describes the country in which the city belongs to'''\n",
    "    print(f'\\n{city} is in {country}')\n",
    "\n",
    "describe_city('Kano')\n",
    "describe_city('Kaduna')\n",
    "describe_city('Kebbi')\n",
    "describe_city(city = 'Texas', country = 'America')"
   ]
  },
  {
   "cell_type": "markdown",
   "id": "fa65283d",
   "metadata": {},
   "source": [
    "# 6. Write a function called city_country() that takes in the name of a city and its country. The function should return a string formatted like this: \"Santiago, Chile\""
   ]
  },
  {
   "cell_type": "code",
   "execution_count": 4,
   "id": "fb02801f",
   "metadata": {},
   "outputs": [
    {
     "name": "stdout",
     "output_type": "stream",
     "text": [
      "Kano, Nigeria\n",
      "Texas, America\n",
      "San Tiago, Brazil\n"
     ]
    }
   ],
   "source": [
    "def city_country(city, country):\n",
    "    '''Return the name of city and country of the input'''\n",
    "    name = f'{city}, {country}'\n",
    "    return name\n",
    "print(city_country('Kano', 'Nigeria'))\n",
    "print(city_country('Texas', 'America'))\n",
    "print(city_country(country = 'Brazil', city = 'San Tiago'))"
   ]
  },
  {
   "cell_type": "markdown",
   "id": "a1ecb7ae",
   "metadata": {},
   "source": [
    "# 7. Write a function called make_album() that builds a dictionary  describing a music album. The function should take in an artist name and an album title, and it should return a dictionary containing these two pieces of information. Use the function to make three dictionaries representing different albums. Print each return value to show that the dictionaries are storing the album information correctly.Use None to add an optional parameter to make_album() that allows you to store the number of songs on an album. If the calling line includes a value for the number of songs, add that value to the album’s dictionary. Make at least one new function call that includes the number of songs on an album."
   ]
  },
  {
   "cell_type": "code",
   "execution_count": 19,
   "id": "016e1c45",
   "metadata": {},
   "outputs": [
    {
     "name": "stdout",
     "output_type": "stream",
     "text": [
      "{'Artist': 'Olamide', 'Title': 'Story for the Gods'}\n",
      "{'Artist': 'Davido', 'Title': 'Coolest Kid in Africe'}\n",
      "{'Artist': 'Wizkid', 'Title': 'Babanla'}\n",
      "{'Artist': 'Adam Zango', 'Title': 'bahaushiya', 'number_of_songs': 15}\n"
     ]
    }
   ],
   "source": [
    "def make_album(album_artist, album_title, number_of_songs = None):\n",
    "    \"\"\"Return a full name of artist and Album title, neatly formatted in a dictionary.\"\"\"\n",
    "    album = {'Artist': album_artist, 'Title': album_title}\n",
    "    if number_of_songs:\n",
    "        album['number_of_songs'] = number_of_songs\n",
    "    return album\n",
    "\n",
    "one =make_album('Olamide', 'Story for the Gods')\n",
    "two = make_album('Davido', 'Coolest Kid in Africe')\n",
    "three = make_album('Wizkid', 'Babanla')\n",
    "one_songs = make_album('Adam Zango', 'bahaushiya', 15)\n",
    "print (one)\n",
    "print (two)\n",
    "print (three)\n",
    "print (one_songs)\n"
   ]
  },
  {
   "cell_type": "markdown",
   "id": "157788c2",
   "metadata": {},
   "source": [
    "# 8. Start with your program from Exercise 7. Write a whileloop that allows users to enter an album’s artist and title. Once you have that information, call make_album() with the user’s input and print the dictionary that’s created. Be sure to include a quit value in the while loop"
   ]
  },
  {
   "cell_type": "code",
   "execution_count": 29,
   "id": "003059bb",
   "metadata": {},
   "outputs": [
    {
     "name": "stdout",
     "output_type": "stream",
     "text": [
      "\n",
      "Please tell me your Album name and Title:\n",
      "(enter 'Q' at any time to quit)\n",
      "Album Artist: Olamide\n",
      "Album Tiltle: Story for the Gods\n",
      "\n",
      "{'Artist': 'Olamide', 'Title': 'Story for the Gods'}!\n",
      "\n",
      "Please tell me your Album name and Title:\n",
      "(enter 'Q' at any time to quit)\n",
      "Album Artist: Wizkid\n",
      "Album Tiltle: Babanla\n",
      "\n",
      "{'Artist': 'Wizkid', 'Title': 'Babanla'}!\n",
      "\n",
      "Please tell me your Album name and Title:\n",
      "(enter 'Q' at any time to quit)\n",
      "Album Artist: Terry G\n",
      "Album Tiltle: Kolo Kolo\n",
      "\n",
      "{'Artist': 'Terry G', 'Title': 'Kolo Kolo'}!\n",
      "\n",
      "Please tell me your Album name and Title:\n",
      "(enter 'Q' at any time to quit)\n",
      "Album Artist: Q\n"
     ]
    }
   ],
   "source": [
    "def make_album(album_artist, album_title):\n",
    "    \"\"\"Return a full name of artist and Album title, neatly formatted.\"\"\"\n",
    "    album = {'Artist': album_artist, 'Title': album_title}\n",
    "    return album\n",
    "while True:\n",
    "    print(\"\\nPlease tell me your Album name and Title:\")\n",
    "    print(\"(enter 'Q' at any time to quit)\")\n",
    "    album_artist = input(\"Album Artist: \")\n",
    "    if album_artist == 'Q':\n",
    "        break        \n",
    "    album_title = input(\"Album Tiltle: \")\n",
    "    if album_title == 'Q':\n",
    "        break\n",
    "\n",
    "    Album_name = make_album(album_artist, album_title)\n",
    "    print(f\"\\n{Album_name}!\")\n",
    "\n",
    "        \n",
    "\n"
   ]
  },
  {
   "cell_type": "markdown",
   "id": "4053517a",
   "metadata": {},
   "source": [
    "# 9. Make a list containing a series of short text messages. Pass the list to a function called show_messages(), which prints each text message."
   ]
  },
  {
   "cell_type": "code",
   "execution_count": 33,
   "id": "34605ce9",
   "metadata": {},
   "outputs": [
    {
     "name": "stdout",
     "output_type": "stream",
     "text": [
      "Hello, Abubakar it is good seeing you!\n",
      "Hello, Kaoje it is good seeing you!\n",
      "Hello, Abdulkadir it is good seeing you!\n"
     ]
    }
   ],
   "source": [
    "def short_messages(msg):\n",
    "    \"\"\"Print a simple greeting to each user in the list.\"\"\"\n",
    "    for msgs in msg:\n",
    "        new = f\"Hello, {msgs.title()} it is good seeing you!\"\n",
    "        print(new)\n",
    "usernames = ['Abubakar', 'Kaoje', 'Abdulkadir']\n",
    "short_messages(usernames)"
   ]
  },
  {
   "cell_type": "markdown",
   "id": "1fbe5316",
   "metadata": {},
   "source": [
    "# 10. Start with a copy of your program from Exercise 8-9. Write a function called send_messages() that prints each text message and moves each message to a new list called sent_messages as it’s printed. After calling the function, print both of your lists to make sure the messages were moved correctly"
   ]
  },
  {
   "cell_type": "code",
   "execution_count": 34,
   "id": "9a674331",
   "metadata": {},
   "outputs": [
    {
     "name": "stdout",
     "output_type": "stream",
     "text": [
      "Hello, how are you?\n",
      "What are you up to?\n",
      "How was your day?\n",
      "Sending message: Hello, how are you?\n",
      "Sending message: What are you up to?\n",
      "Sending message: How was your day?\n",
      "\n",
      "Original messages:\n",
      "\n",
      "Sent messages:\n",
      "Hello, how are you?\n",
      "What are you up to?\n",
      "How was your day?\n"
     ]
    }
   ],
   "source": [
    "def show_messages(msg):\n",
    "    \"\"\"Print a list of text messages.\"\"\"\n",
    "    for msgs in msg:\n",
    "        print(msgs)\n",
    "\n",
    "def send_messages(msg, sent_msgs):\n",
    "    \"\"\"Print each text message and move it to a list of sent messages.\"\"\"\n",
    "    while msg:\n",
    "        current_msg = msg.pop(0)\n",
    "        print(f\"Sending message: {current_msg}\")\n",
    "        sent_msgs.append(current_msg)\n",
    "\n",
    "# Create a list of messages and an empty list to hold sent messages\n",
    "messages = ['Hello, how are you?', 'What are you up to?', 'How was your day?']\n",
    "sent_messages = []\n",
    "\n",
    "# Print the original list of messages and send each message\n",
    "show_messages(messages)\n",
    "send_messages(messages, sent_messages)\n",
    "\n",
    "# Print both lists to verify that the messages were moved correctly\n",
    "print(\"\\nOriginal messages:\")\n",
    "show_messages(messages)\n",
    "\n",
    "print(\"\\nSent messages:\")\n",
    "show_messages(sent_messages)\n"
   ]
  },
  {
   "cell_type": "markdown",
   "id": "452347ce",
   "metadata": {},
   "source": [
    "# 11. Start with your work from Exercise 8-10. Call the function send_messages() with a copy of the list of messages. After calling the function, print both of your lists to show that the original list has retained its messages.\n"
   ]
  },
  {
   "cell_type": "code",
   "execution_count": 35,
   "id": "84a08134",
   "metadata": {},
   "outputs": [
    {
     "name": "stdout",
     "output_type": "stream",
     "text": [
      "Original messages:\n",
      "Hello, how are you?\n",
      "What are you up to?\n",
      "How was your day?\n",
      "Sending message: Hello, how are you?\n",
      "Sending message: What are you up to?\n",
      "Sending message: How was your day?\n",
      "\n",
      "Original messages:\n",
      "Hello, how are you?\n",
      "What are you up to?\n",
      "How was your day?\n",
      "\n",
      "Sent messages:\n",
      "Hello, how are you?\n",
      "What are you up to?\n",
      "How was your day?\n"
     ]
    }
   ],
   "source": [
    "def show_messages(msg):\n",
    "    \"\"\"Print a list of text messages.\"\"\"\n",
    "    for msgs in msg:\n",
    "        print(msgs)\n",
    "\n",
    "def send_messages(msg, sent_msgs):\n",
    "    \"\"\"Print each text message and move it to a list of sent messages.\"\"\"\n",
    "    while msg:\n",
    "        current_msg = msg.pop(0)\n",
    "        print(f\"Sending message: {current_msg}\")\n",
    "        sent_msgs.append(current_msg)\n",
    "\n",
    "# Create a list of messages and an empty list to hold sent messages\n",
    "original_messages = ['Hello, how are you?', 'What are you up to?', 'How was your day?']\n",
    "sent_messages = []\n",
    "\n",
    "# Print the original list of messages and send a copy of the messages\n",
    "print(\"Original messages:\")\n",
    "show_messages(original_messages)\n",
    "\n",
    "send_messages(original_messages[:], sent_messages)\n",
    "\n",
    "# Print both lists to verify that the messages were moved correctly\n",
    "print(\"\\nOriginal messages:\")\n",
    "show_messages(original_messages)\n",
    "\n",
    "print(\"\\nSent messages:\")\n",
    "show_messages(sent_messages)\n"
   ]
  },
  {
   "cell_type": "markdown",
   "id": "fad08a6b",
   "metadata": {},
   "source": [
    "# 12. Write a function that accepts a list of items a person wantson a sandwich. The function should have one parameter that collects as many  items as the function call provides, and it should print a summary of the sand\u0002wich that’s being ordered. Call the function three times, using a different num\u0002ber of arguments each time."
   ]
  },
  {
   "cell_type": "code",
   "execution_count": 36,
   "id": "8f0f71ce",
   "metadata": {},
   "outputs": [
    {
     "name": "stdout",
     "output_type": "stream",
     "text": [
      "Making a sandwich with the following items:\n",
      "- turkey\n",
      "- cheddar\n",
      "- lettuce\n",
      "Your sandwich is ready!\n",
      "Making a sandwich with the following items:\n",
      "- ham\n",
      "- swiss\n",
      "- tomato\n",
      "- mayo\n",
      "Your sandwich is ready!\n",
      "Making a sandwich with the following items:\n",
      "- peanut butter\n",
      "- jelly\n",
      "Your sandwich is ready!\n"
     ]
    }
   ],
   "source": [
    "def make_sandwich(*items):\n",
    "    \"\"\"Accept a list of sandwich items and print a summary.\"\"\"\n",
    "    print(\"Making a sandwich with the following items:\")\n",
    "    for item in items:\n",
    "        print(f\"- {item}\")\n",
    "    print(\"Your sandwich is ready!\")\n",
    "\n",
    "# Make a few different sandwiches using the make_sandwich function\n",
    "make_sandwich(\"turkey\", \"cheddar\", \"lettuce\")\n",
    "make_sandwich(\"ham\", \"swiss\", \"tomato\", \"mayo\")\n",
    "make_sandwich(\"peanut butter\", \"jelly\")\n"
   ]
  },
  {
   "cell_type": "markdown",
   "id": "f210d562",
   "metadata": {},
   "source": [
    "# 13.  Start with a copy of user_profile.py from page 149. Build a profile of yourself by calling build_profile(), using your first and last names and three other key-value pairs that describe you."
   ]
  },
  {
   "cell_type": "code",
   "execution_count": 39,
   "id": "0285573f",
   "metadata": {},
   "outputs": [
    {
     "name": "stdout",
     "output_type": "stream",
     "text": [
      "{'location': 'Kano', 'field': 'physics', 'age': 27, 'marita_status': 'single', 'first_name': 'Abubakar', 'last_name': 'Abdulkadir'}\n"
     ]
    }
   ],
   "source": [
    "def build_profile(first, last, **user_info):\n",
    "    \"\"\"Build a dictionary containing everything we know about a user.\"\"\"\n",
    "    user_info['first_name'] = first\n",
    "    user_info['last_name'] = last\n",
    "    return user_info\n",
    "\n",
    "user_profile = build_profile('Abubakar', 'Abdulkadir',\n",
    "                             location='Kano',\n",
    "                             field='physics', age = 27, marita_status = 'single')\n",
    "print(user_profile)"
   ]
  },
  {
   "cell_type": "markdown",
   "id": "6e07be91",
   "metadata": {},
   "source": [
    "# 14. Write a function that stores information about a car in a diction\u0002ary. The function should always receive a manufacturer and a model name. It should then accept an arbitrary number of keyword arguments. Call the func\u0002tion with the required information and two other name-value pairs, such as a color or an optional feature. Your function should work for a call like this one:car = make_car('subaru', 'outback', color='blue', tow_package=True)"
   ]
  },
  {
   "cell_type": "code",
   "execution_count": 40,
   "id": "8d1021d0",
   "metadata": {},
   "outputs": [
    {
     "name": "stdout",
     "output_type": "stream",
     "text": [
      "{'manufacturer': 'subaru', 'model': 'outback', 'color': 'blue', 'tow_package': True}\n"
     ]
    }
   ],
   "source": [
    "def make_car(manufacturer, model, **kwargs):\n",
    "    \"\"\"Create a dictionary representing a car with the given details.\"\"\"\n",
    "    car = {\n",
    "        'manufacturer': manufacturer,\n",
    "        'model': model,\n",
    "    }\n",
    "    for key, value in kwargs.items():\n",
    "        car[key] = value\n",
    "    return car\n",
    "\n",
    "# Create a car using the make_car function with some additional details\n",
    "car = make_car('subaru', 'outback', color='blue', tow_package=True)\n",
    "\n",
    "# Print the resulting dictionary to confirm that the details were stored correctly\n",
    "print(car)\n"
   ]
  },
  {
   "cell_type": "markdown",
   "id": "267db057",
   "metadata": {},
   "source": [
    "# 15. Put the functions for the example printing_models.py in a separate file called printing_functions.py. Write an import statement at the top of printing_models.py, and modify the file to use the imported functions."
   ]
  },
  {
   "cell_type": "code",
   "execution_count": 43,
   "id": "49bfe0cf",
   "metadata": {},
   "outputs": [],
   "source": [
    "# printing_functions.py\n",
    "\n",
    "def print_models(unprinted_designs, completed_models):\n",
    "    \"\"\"\n",
    "    Simulate printing each design, until none are left.\n",
    "    Move each design to completed_models after printing.\n",
    "    \"\"\"\n",
    "    while unprinted_designs:\n",
    "        current_design = unprinted_designs.pop()\n",
    "        \n",
    "        # Simulate creating a 3D print from the design.\n",
    "        print(f\"Printing model: {current_design}\")\n",
    "        completed_models.append(current_design)\n",
    "        \n",
    "def show_completed_models(completed_models):\n",
    "    \"\"\"Show all the models that were printed.\"\"\"\n",
    "    print(\"\\nThe following models have been printed:\")\n",
    "    for completed_model in completed_models:\n",
    "        print(completed_model)\n",
    "\n",
    "\n",
    "\n"
   ]
  },
  {
   "cell_type": "code",
   "execution_count": 44,
   "id": "8c5847f1",
   "metadata": {},
   "outputs": [
    {
     "ename": "ModuleNotFoundError",
     "evalue": "No module named 'printing_functions'",
     "output_type": "error",
     "traceback": [
      "\u001b[1;31m---------------------------------------------------------------------------\u001b[0m",
      "\u001b[1;31mModuleNotFoundError\u001b[0m                       Traceback (most recent call last)",
      "\u001b[1;32m~\\AppData\\Local\\Temp\\ipykernel_2344\\3601536347.py\u001b[0m in \u001b[0;36m<module>\u001b[1;34m\u001b[0m\n\u001b[0;32m      1\u001b[0m \u001b[1;31m# printing_models.py\u001b[0m\u001b[1;33m\u001b[0m\u001b[1;33m\u001b[0m\u001b[0m\n\u001b[0;32m      2\u001b[0m \u001b[1;33m\u001b[0m\u001b[0m\n\u001b[1;32m----> 3\u001b[1;33m \u001b[1;32mfrom\u001b[0m \u001b[0mprinting_functions\u001b[0m \u001b[1;32mimport\u001b[0m \u001b[0mprint_models\u001b[0m\u001b[1;33m,\u001b[0m \u001b[0mshow_completed_models\u001b[0m\u001b[1;33m\u001b[0m\u001b[1;33m\u001b[0m\u001b[0m\n\u001b[0m\u001b[0;32m      4\u001b[0m \u001b[1;33m\u001b[0m\u001b[0m\n\u001b[0;32m      5\u001b[0m \u001b[1;31m# The rest of the file remains the same\u001b[0m\u001b[1;33m\u001b[0m\u001b[1;33m\u001b[0m\u001b[0m\n",
      "\u001b[1;31mModuleNotFoundError\u001b[0m: No module named 'printing_functions'"
     ]
    }
   ],
   "source": [
    "# printing_models.py\n",
    "\n",
    "from printing_functions import print_models, show_completed_models\n",
    "\n",
    "# The rest of the file remains the same\n"
   ]
  },
  {
   "cell_type": "code",
   "execution_count": null,
   "id": "5cc94d09",
   "metadata": {},
   "outputs": [],
   "source": [
    "# printing_models.py\n",
    "\n",
    "from printing_functions import print_models, show_completed_models\n",
    "\n",
    "unprinted_designs = ['phone case', 'pendant', 'ring']\n",
    "completed_models = []\n",
    "\n",
    "print_models(unprinted_designs, completed_models)\n",
    "show_completed_models(completed_models)b"
   ]
  },
  {
   "cell_type": "markdown",
   "id": "66bafa39",
   "metadata": {},
   "source": [
    "# 16. Using a program you wrote that has one function in it, store that function in a separate file. Import the function into your main program file, and call the function using each of these approaches:import module_name, from module_name import function_name, from module_name import function_name as fn,import module_name as mn, from module_name import *"
   ]
  },
  {
   "cell_type": "code",
   "execution_count": 49,
   "id": "5ea25a80",
   "metadata": {},
   "outputs": [],
   "source": [
    "def greet(name):\n",
    "    print(f\"Hello, {name}!\")\n",
    "\n",
    "\n",
    "    \n",
    "\n"
   ]
  },
  {
   "cell_type": "code",
   "execution_count": 51,
   "id": "e042d72a",
   "metadata": {},
   "outputs": [
    {
     "ename": "ModuleNotFoundError",
     "evalue": "No module named 'greet'",
     "output_type": "error",
     "traceback": [
      "\u001b[1;31m---------------------------------------------------------------------------\u001b[0m",
      "\u001b[1;31mModuleNotFoundError\u001b[0m                       Traceback (most recent call last)",
      "\u001b[1;32m~\\AppData\\Local\\Temp\\ipykernel_2344\\3980557193.py\u001b[0m in \u001b[0;36m<module>\u001b[1;34m\u001b[0m\n\u001b[0;32m      1\u001b[0m \u001b[1;31m# Import the whole module and call the function using module_name.function_name()\u001b[0m\u001b[1;33m\u001b[0m\u001b[1;33m\u001b[0m\u001b[0m\n\u001b[1;32m----> 2\u001b[1;33m \u001b[1;32mimport\u001b[0m \u001b[0mgreet\u001b[0m\u001b[1;33m\u001b[0m\u001b[1;33m\u001b[0m\u001b[0m\n\u001b[0m\u001b[0;32m      3\u001b[0m \u001b[1;33m\u001b[0m\u001b[0m\n\u001b[0;32m      4\u001b[0m \u001b[0mmy_functions\u001b[0m\u001b[1;33m.\u001b[0m\u001b[0mgreet\u001b[0m\u001b[1;33m(\u001b[0m\u001b[1;34m\"Alice\"\u001b[0m\u001b[1;33m)\u001b[0m\u001b[1;33m\u001b[0m\u001b[1;33m\u001b[0m\u001b[0m\n\u001b[0;32m      5\u001b[0m \u001b[1;33m\u001b[0m\u001b[0m\n",
      "\u001b[1;31mModuleNotFoundError\u001b[0m: No module named 'greet'"
     ]
    }
   ],
   "source": [
    "# Import the whole module and call the function using module_name.function_name()\n",
    "import my_functions\n",
    "\n",
    "my_functions.greet(\"Alice\")\n",
    "\n",
    "# Import just the function and call it directly using function_name()\n",
    "from my_functions import greet\n",
    "\n",
    "greet(\"Bob\")\n",
    "\n",
    "# Import the function with an alias and call it using the alias\n",
    "from my_functions import greet as my_greet\n",
    "\n",
    "my_greet(\"Charlie\")\n",
    "\n",
    "# Import the module with an alias and call the function using alias.function_name()\n",
    "import my_functions as mf\n",
    "\n",
    "mf.greet(\"Dave\")\n",
    "\n",
    "# Import everything from the module and call the function directly\n",
    "from my_functions import *\n",
    "\n",
    "greet(\"Eve\")\n"
   ]
  },
  {
   "cell_type": "code",
   "execution_count": null,
   "id": "1fb8455e",
   "metadata": {},
   "outputs": [],
   "source": []
  }
 ],
 "metadata": {
  "kernelspec": {
   "display_name": "Python 3 (ipykernel)",
   "language": "python",
   "name": "python3"
  },
  "language_info": {
   "codemirror_mode": {
    "name": "ipython",
    "version": 3
   },
   "file_extension": ".py",
   "mimetype": "text/x-python",
   "name": "python",
   "nbconvert_exporter": "python",
   "pygments_lexer": "ipython3",
   "version": "3.9.13"
  }
 },
 "nbformat": 4,
 "nbformat_minor": 5
}
